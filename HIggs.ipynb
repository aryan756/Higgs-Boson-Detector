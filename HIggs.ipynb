{
  "cells": [
    {
      "cell_type": "code",
      "execution_count": null,
      "metadata": {
        "id": "HUJbvibM57Cs"
      },
      "outputs": [],
      "source": [
        "import numpy as np\n",
        "import pandas as pd\n",
        "from sklearn import preprocessing\n",
        "import os,warnings\n",
        "warnings.simplefilter('ignore')\n",
        "from sklearn.model_selection import train_test_split\n",
        "from tabulate import tabulate\n",
        "import datetime"
      ]
    },
    {
      "cell_type": "code",
      "execution_count": null,
      "metadata": {
        "colab": {
          "base_uri": "https://localhost:8080/"
        },
        "id": "H0XPGkGs6GJv",
        "outputId": "ee750ea9-5ff2-4c7d-833c-68c9b9d56434"
      },
      "outputs": [
        {
          "name": "stdout",
          "output_type": "stream",
          "text": [
            "Training data shape: (400000, 31)\n"
          ]
        }
      ],
      "source": [
        "# paths\n",
        "TRAIN_PATH = '/content/train.csv'\n",
        "TEST_PATH = '/content/test.csv'\n",
        "SUBMISSION_PATH = '/content/sample_submission (1).csv'\n",
        "\n",
        "# read data\n",
        "train_df = pd.read_csv(TRAIN_PATH)\n",
        "test_df = pd.read_csv(TEST_PATH)\n",
        "submit_df = pd.read_csv(SUBMISSION_PATH)\n",
        "\n",
        "# drop column = id\n",
        "test_df.drop('ID',axis=1,inplace=True)\n",
        "\n",
        "# drop NULLs\n",
        "train_df.dropna(inplace=True)\n",
        "test_df.dropna(inplace=True)\n",
        "\n",
        "# reset index\n",
        "train_df.reset_index(drop=True,inplace=True)\n",
        "test_df.reset_index(drop=True,inplace=True)\n",
        "\n",
        "# view\n",
        "print(f\"Training data shape: {train_df.shape}\")"
      ]
    },
    {
      "cell_type": "code",
      "execution_count": null,
      "metadata": {
        "id": "RyrY4gw96ILO"
      },
      "outputs": [],
      "source": [
        "# feature engineering\n",
        "X = train_df.iloc[:, : 30]\n",
        "Y = train_df[['Target']]\n",
        "\n",
        "\n",
        "# Standardize features\n",
        "scaler = preprocessing.MinMaxScaler()\n",
        "X = scaler.fit_transform(X)\n",
        "# split data\n",
        "#x_train, x_test, y_train, y_test = train_test_split(X, Y, random_state=0)\n",
        "#print(f\"x_train shape: {x_train.shape} | x_test shape: {x_test.shape}\")"
      ]
    },
    {
      "cell_type": "code",
      "execution_count": null,
      "metadata": {
        "colab": {
          "base_uri": "https://localhost:8080/"
        },
        "id": "vl8useSb6W5D",
        "outputId": "cbf11509-8000-48a6-a964-2e90ece0c203"
      },
      "outputs": [
        {
          "name": "stdout",
          "output_type": "stream",
          "text": [
            "CPU times: user 4 s, sys: 176 ms, total: 4.18 s\n",
            "Wall time: 4.18 s\n"
          ]
        }
      ],
      "source": [
        "%%time\n",
        "\n",
        "# import the library\n",
        "from sklearn.svm import LinearSVC\n",
        "\n",
        "# instantiate & fit\n",
        "svm=LinearSVC(C=0.0001)\n",
        "svm.fit(X, Y)\n",
        "data_test = pd.read_csv(\"/content/test.csv\")\n",
        "\n",
        "# Extract features for testing\n",
        "x_test = scaler.transform(data_test.drop(columns=['ID'], axis=1))"
      ]
    },
    {
      "cell_type": "code",
      "execution_count": null,
      "metadata": {
        "colab": {
          "base_uri": "https://localhost:8080/"
        },
        "id": "szrUd9ZR7MLb",
        "outputId": "6828b3fa-1921-412d-ef33-24163d464aa0"
      },
      "outputs": [
        {
          "name": "stdout",
          "output_type": "stream",
          "text": [
            "3125/3125 [==============================] - 7s 2ms/step\n"
          ]
        }
      ],
      "source": [
        "y_test = model.predict(x_test)\n",
        "binary_predictions = (y_test > 0.5).astype(int)"
      ]
    },
    {
      "cell_type": "code",
      "execution_count": null,
      "metadata": {
        "id": "Jz59IkYJ8EDa"
      },
      "outputs": [],
      "source": [
        "submission_df = pd.DataFrame({'ID': data_test['ID'].values.flatten(), 'Target': binary_predictions.flatten()})\n",
        "\n",
        "\n",
        "# Save the submission DataFrame to a CSV file\n",
        "submission_df.to_csv(\"submission6.csv\", index=False)"
      ]
    },
    {
      "cell_type": "code",
      "execution_count": null,
      "metadata": {
        "colab": {
          "base_uri": "https://localhost:8080/"
        },
        "id": "od0-UZ9iAi16",
        "outputId": "c56e703b-2d9f-45d8-c747-2dddf94bb739"
      },
      "outputs": [
        {
          "name": "stdout",
          "output_type": "stream",
          "text": [
            "Model: \"sequential_4\"\n",
            "_________________________________________________________________\n",
            " Layer (type)                Output Shape              Param #   \n",
            "=================================================================\n",
            " dense_13 (Dense)            (None, 64)                1984      \n",
            "                                                                 \n",
            " dense_14 (Dense)            (None, 32)                2080      \n",
            "                                                                 \n",
            " dense_15 (Dense)            (None, 16)                528       \n",
            "                                                                 \n",
            " dense_16 (Dense)            (None, 1)                 17        \n",
            "                                                                 \n",
            "=================================================================\n",
            "Total params: 4609 (18.00 KB)\n",
            "Trainable params: 4609 (18.00 KB)\n",
            "Non-trainable params: 0 (0.00 Byte)\n",
            "_________________________________________________________________\n",
            "Epoch 1/10\n",
            "12500/12500 [==============================] - 42s 3ms/step - loss: 0.6430 - accuracy: 0.6187\n",
            "Epoch 2/10\n",
            "12500/12500 [==============================] - 35s 3ms/step - loss: 0.6215 - accuracy: 0.6495\n",
            "Epoch 3/10\n",
            "12500/12500 [==============================] - 36s 3ms/step - loss: 0.6127 - accuracy: 0.6599\n",
            "Epoch 4/10\n",
            "12500/12500 [==============================] - 37s 3ms/step - loss: 0.6071 - accuracy: 0.6671\n",
            "Epoch 5/10\n",
            "12500/12500 [==============================] - 36s 3ms/step - loss: 0.6054 - accuracy: 0.6693\n",
            "Epoch 6/10\n",
            "12500/12500 [==============================] - 33s 3ms/step - loss: 0.6032 - accuracy: 0.6705\n",
            "Epoch 7/10\n",
            "12500/12500 [==============================] - 35s 3ms/step - loss: 0.6022 - accuracy: 0.6724\n",
            "Epoch 8/10\n",
            "12500/12500 [==============================] - 36s 3ms/step - loss: 0.6010 - accuracy: 0.6732\n",
            "Epoch 9/10\n",
            "12500/12500 [==============================] - 36s 3ms/step - loss: 0.6007 - accuracy: 0.6746\n",
            "Epoch 10/10\n",
            "12500/12500 [==============================] - 34s 3ms/step - loss: 0.6005 - accuracy: 0.6739\n",
            "3125/3125 [==============================] - 7s 2ms/step\n"
          ]
        }
      ],
      "source": [
        "import tensorflow as tf\n",
        "from tensorflow import keras\n",
        "from tensorflow.keras import layers\n",
        "from tensorflow.keras.models import Sequential\n",
        "from tensorflow.keras.layers import Dense, Dropout, Activation\n",
        "\n",
        "#numpy array\n",
        "#X_array = X.values\n",
        "\n",
        "#reshaping the data\n",
        "#X_array = X_array.reshape(X_array.shape[0], X_array.shape[1], 1)\n",
        "\n",
        "# Split the dataset into training and testing sets\n",
        "#X_train, X_test, y_train, y_test = train_test_split(X_array, Y, random_state=42)\n",
        "scaler = preprocessing.MinMaxScaler()\n",
        "X = scaler.fit_transform(X)\n",
        "\n",
        "\n",
        "\n",
        "model = Sequential()\n",
        "model.add(Dense(64, input_shape=(X.shape[-1],), activation=\"relu\"))\n",
        "model.add(Dense(32, activation=\"relu\"))\n",
        "model.add(Dense(16, activation=\"relu\"))\n",
        "model.add(Dense(1, activation=\"sigmoid\"))\n",
        "\n",
        "model.summary()\n",
        "\n",
        "metrics = [\n",
        "    keras.metrics.BinaryAccuracy(name=\"accuracy\"),\n",
        "]\n",
        "\n",
        "# Compile the model\n",
        "model.compile(optimizer=keras.optimizers.Adam(0.01),\n",
        "             loss=\"binary_crossentropy\",\n",
        "             metrics=metrics)\n",
        "epochs = 10\n",
        "batch_size = 128\n",
        "\n",
        "# Training the model\n",
        "history = model.fit(X, Y, epochs=10)\n",
        "\n",
        "\n",
        "predictions = model.predict(x_test)\n",
        "\n",
        "# Optionally, if you want binary predictions (0 or 1)\n",
        "binary_predictions = (predictions > 0.5).astype(int)\n",
        "\n",
        "# Accuracy\n",
        "accuracy = history.history['accuracy']\n"
      ]
    },
    {
      "cell_type": "code",
      "execution_count": null,
      "metadata": {
        "id": "c6oMT10LAoql"
      },
      "outputs": [],
      "source": [
        "!pip install -q -U keras-tuner"
      ]
    },
    {
      "cell_type": "code",
      "execution_count": null,
      "metadata": {
        "id": "9SMZqynuArRy"
      },
      "outputs": [],
      "source": [
        "import keras_tuner as kt"
      ]
    },
    {
      "cell_type": "code",
      "execution_count": null,
      "metadata": {
        "id": "vu-M8DlnAs9o"
      },
      "outputs": [],
      "source": [
        "def model_builder(hp):\n",
        "  model = keras.Sequential()\n",
        "\n",
        "  # Tuning the number of units in the first Dense layer (32-512)\n",
        "\n",
        "  hp_units = hp.Int('units', min_value=32, max_value=512, step=32)\n",
        "  model.add(keras.layers.Dense(units=hp_units, activation='relu'))\n",
        "  model.add(keras.layers.Dense(units=hp_units, activation='relu'))\n",
        "  model.add(keras.layers.Dense(1, activation='sigmoid'))\n",
        "\n",
        "  # Tuning the learning rate for the optimizer (0.001, 0.0001, or 0.00001)\n",
        "\n",
        "  hp_learning_rate = hp.Choice('learning_rate', values=[1e-3, 1e-4, 1e-5])\n",
        "\n",
        "  metrics = [\n",
        "    keras.metrics.BinaryAccuracy(\"accuracy\"),\n",
        "    ]\n",
        "\n",
        "  model.compile(optimizer=keras.optimizers.Adam(learning_rate=hp_learning_rate),\n",
        "                loss=keras.losses.BinaryCrossentropy(),\n",
        "                metrics=metrics)\n",
        "\n",
        "  return model"
      ]
    },
    {
      "cell_type": "code",
      "execution_count": null,
      "metadata": {
        "colab": {
          "base_uri": "https://localhost:8080/"
        },
        "id": "DN8Wa984AvDc",
        "outputId": "0ca463bb-97e5-4fdb-896f-3821b3388a51"
      },
      "outputs": [
        {
          "name": "stdout",
          "output_type": "stream",
          "text": [
            "Reloading Tuner from ./untitled_project/tuner0.json\n"
          ]
        }
      ],
      "source": [
        "tuner = kt.RandomSearch(\n",
        "    model_builder,\n",
        "    objective='val_loss',\n",
        "    max_trials=5)"
      ]
    },
    {
      "cell_type": "code",
      "execution_count": null,
      "metadata": {
        "id": "b4cKGph7AxjH"
      },
      "outputs": [],
      "source": []
    },
    {
      "cell_type": "code",
      "execution_count": null,
      "metadata": {
        "colab": {
          "base_uri": "https://localhost:8080/",
          "height": 1000
        },
        "id": "iiZ54WhBAzW_",
        "outputId": "83ebf9fc-118b-4d90-a438-7fae81de5c45"
      },
      "outputs": [
        {
          "name": "stdout",
          "output_type": "stream",
          "text": [
            "\n",
            "Search: Running Trial #3\n",
            "\n",
            "Value             |Best Value So Far |Hyperparameter\n",
            "96                |96                |units\n",
            "0.0001            |0.0001            |learning_rate\n",
            "\n",
            "Epoch 1/10\n",
            "6234/6250 [============================>.] - ETA: 0s - loss: 0.6700 - accuracy: 0.5838"
          ]
        },
        {
          "name": "stderr",
          "output_type": "stream",
          "text": [
            "WARNING:tensorflow:Early stopping conditioned on metric `val_precision` which is not available. Available metrics are: loss,accuracy\n"
          ]
        },
        {
          "name": "stdout",
          "output_type": "stream",
          "text": [
            "\b\b\b\b\b\b\b\b\b\b\b\b\b\b\b\b\b\b\b\b\b\b\b\b\b\b\b\b\b\b\b\b\b\b\b\b\b\b\b\b\b\b\b\b\b\b\b\b\b\b\b\b\b\b\b\b\b\b\b\b\b\b\b\b\b\b\b\b\b\b\b\b\b\b\b\b\b\b\b\b\b\b\b\b\b\b\r6250/6250 [==============================] - 18s 3ms/step - loss: 0.6699 - accuracy: 0.5839\n",
            "Epoch 2/10\n",
            "6247/6250 [============================>.] - ETA: 0s - loss: 0.6440 - accuracy: 0.6252"
          ]
        },
        {
          "name": "stderr",
          "output_type": "stream",
          "text": [
            "WARNING:tensorflow:Early stopping conditioned on metric `val_precision` which is not available. Available metrics are: loss,accuracy\n"
          ]
        },
        {
          "name": "stdout",
          "output_type": "stream",
          "text": [
            "\b\b\b\b\b\b\b\b\b\b\b\b\b\b\b\b\b\b\b\b\b\b\b\b\b\b\b\b\b\b\b\b\b\b\b\b\b\b\b\b\b\b\b\b\b\b\b\b\b\b\b\b\b\b\b\b\b\b\b\b\b\b\b\b\b\b\b\b\b\b\b\b\b\b\b\b\b\b\b\b\b\b\b\b\b\b\r6250/6250 [==============================] - 16s 3ms/step - loss: 0.6440 - accuracy: 0.6252\n",
            "Epoch 3/10\n",
            "6235/6250 [============================>.] - ETA: 0s - loss: 0.6369 - accuracy: 0.6360"
          ]
        },
        {
          "name": "stderr",
          "output_type": "stream",
          "text": [
            "WARNING:tensorflow:Early stopping conditioned on metric `val_precision` which is not available. Available metrics are: loss,accuracy\n"
          ]
        },
        {
          "name": "stdout",
          "output_type": "stream",
          "text": [
            "\b\b\b\b\b\b\b\b\b\b\b\b\b\b\b\b\b\b\b\b\b\b\b\b\b\b\b\b\b\b\b\b\b\b\b\b\b\b\b\b\b\b\b\b\b\b\b\b\b\b\b\b\b\b\b\b\b\b\b\b\b\b\b\b\b\b\b\b\b\b\b\b\b\b\b\b\b\b\b\b\b\b\b\b\b\b\r6250/6250 [==============================] - 16s 3ms/step - loss: 0.6369 - accuracy: 0.6360\n",
            "Epoch 4/10\n",
            "6230/6250 [============================>.] - ETA: 0s - loss: 0.6330 - accuracy: 0.6416"
          ]
        },
        {
          "name": "stderr",
          "output_type": "stream",
          "text": [
            "WARNING:tensorflow:Early stopping conditioned on metric `val_precision` which is not available. Available metrics are: loss,accuracy\n"
          ]
        },
        {
          "name": "stdout",
          "output_type": "stream",
          "text": [
            "\b\b\b\b\b\b\b\b\b\b\b\b\b\b\b\b\b\b\b\b\b\b\b\b\b\b\b\b\b\b\b\b\b\b\b\b\b\b\b\b\b\b\b\b\b\b\b\b\b\b\b\b\b\b\b\b\b\b\b\b\b\b\b\b\b\b\b\b\b\b\b\b\b\b\b\b\b\b\b\b\b\b\b\b\b\b\r6250/6250 [==============================] - 16s 3ms/step - loss: 0.6330 - accuracy: 0.6416\n",
            "Epoch 5/10\n",
            "6248/6250 [============================>.] - ETA: 0s - loss: 0.6298 - accuracy: 0.6461"
          ]
        },
        {
          "name": "stderr",
          "output_type": "stream",
          "text": [
            "WARNING:tensorflow:Early stopping conditioned on metric `val_precision` which is not available. Available metrics are: loss,accuracy\n"
          ]
        },
        {
          "name": "stdout",
          "output_type": "stream",
          "text": [
            "\b\b\b\b\b\b\b\b\b\b\b\b\b\b\b\b\b\b\b\b\b\b\b\b\b\b\b\b\b\b\b\b\b\b\b\b\b\b\b\b\b\b\b\b\b\b\b\b\b\b\b\b\b\b\b\b\b\b\b\b\b\b\b\b\b\b\b\b\b\b\b\b\b\b\b\b\b\b\b\b\b\b\b\b\b\b\r6250/6250 [==============================] - 16s 3ms/step - loss: 0.6298 - accuracy: 0.6461\n",
            "Epoch 6/10\n",
            "6250/6250 [==============================] - ETA: 0s - loss: 0.6269 - accuracy: 0.6502"
          ]
        },
        {
          "name": "stderr",
          "output_type": "stream",
          "text": [
            "WARNING:tensorflow:Early stopping conditioned on metric `val_precision` which is not available. Available metrics are: loss,accuracy\n"
          ]
        },
        {
          "name": "stdout",
          "output_type": "stream",
          "text": [
            "\b\b\b\b\b\b\b\b\b\b\b\b\b\b\b\b\b\b\b\b\b\b\b\b\b\b\b\b\b\b\b\b\b\b\b\b\b\b\b\b\b\b\b\b\b\b\b\b\b\b\b\b\b\b\b\b\b\b\b\b\b\b\b\b\b\b\b\b\b\b\b\b\b\b\b\b\b\b\b\b\b\b\b\b\b\b\r6250/6250 [==============================] - 19s 3ms/step - loss: 0.6269 - accuracy: 0.6502\n",
            "Epoch 7/10\n",
            "6240/6250 [============================>.] - ETA: 0s - loss: 0.6242 - accuracy: 0.6534"
          ]
        },
        {
          "name": "stderr",
          "output_type": "stream",
          "text": [
            "WARNING:tensorflow:Early stopping conditioned on metric `val_precision` which is not available. Available metrics are: loss,accuracy\n"
          ]
        },
        {
          "name": "stdout",
          "output_type": "stream",
          "text": [
            "\b\b\b\b\b\b\b\b\b\b\b\b\b\b\b\b\b\b\b\b\b\b\b\b\b\b\b\b\b\b\b\b\b\b\b\b\b\b\b\b\b\b\b\b\b\b\b\b\b\b\b\b\b\b\b\b\b\b\b\b\b\b\b\b\b\b\b\b\b\b\b\b\b\b\b\b\b\b\b\b\b\b\b\b\b\b\r6250/6250 [==============================] - 16s 3ms/step - loss: 0.6241 - accuracy: 0.6534\n",
            "Epoch 8/10\n",
            "6239/6250 [============================>.] - ETA: 0s - loss: 0.6212 - accuracy: 0.6568"
          ]
        },
        {
          "name": "stderr",
          "output_type": "stream",
          "text": [
            "WARNING:tensorflow:Early stopping conditioned on metric `val_precision` which is not available. Available metrics are: loss,accuracy\n"
          ]
        },
        {
          "name": "stdout",
          "output_type": "stream",
          "text": [
            "\b\b\b\b\b\b\b\b\b\b\b\b\b\b\b\b\b\b\b\b\b\b\b\b\b\b\b\b\b\b\b\b\b\b\b\b\b\b\b\b\b\b\b\b\b\b\b\b\b\b\b\b\b\b\b\b\b\b\b\b\b\b\b\b\b\b\b\b\b\b\b\b\b\b\b\b\b\b\b\b\b\b\b\b\b\b\r6250/6250 [==============================] - 18s 3ms/step - loss: 0.6212 - accuracy: 0.6568\n",
            "Epoch 9/10\n",
            "6236/6250 [============================>.] - ETA: 0s - loss: 0.6185 - accuracy: 0.6601"
          ]
        },
        {
          "name": "stderr",
          "output_type": "stream",
          "text": [
            "WARNING:tensorflow:Early stopping conditioned on metric `val_precision` which is not available. Available metrics are: loss,accuracy\n"
          ]
        },
        {
          "name": "stdout",
          "output_type": "stream",
          "text": [
            "\b\b\b\b\b\b\b\b\b\b\b\b\b\b\b\b\b\b\b\b\b\b\b\b\b\b\b\b\b\b\b\b\b\b\b\b\b\b\b\b\b\b\b\b\b\b\b\b\b\b\b\b\b\b\b\b\b\b\b\b\b\b\b\b\b\b\b\b\b\b\b\b\b\b\b\b\b\b\b\b\b\b\b\b\b\b\r6250/6250 [==============================] - 17s 3ms/step - loss: 0.6185 - accuracy: 0.6602\n",
            "Epoch 10/10\n",
            "6234/6250 [============================>.] - ETA: 0s - loss: 0.6158 - accuracy: 0.6624"
          ]
        },
        {
          "name": "stderr",
          "output_type": "stream",
          "text": [
            "WARNING:tensorflow:Early stopping conditioned on metric `val_precision` which is not available. Available metrics are: loss,accuracy\n"
          ]
        },
        {
          "name": "stdout",
          "output_type": "stream",
          "text": [
            "\b\b\b\b\b\b\b\b\b\b\b\b\b\b\b\b\b\b\b\b\b\b\b\b\b\b\b\b\b\b\b\b\b\b\b\b\b\b\b\b\b\b\b\b\b\b\b\b\b\b\b\b\b\b\b\b\b\b\b\b\b\b\b\b\b\b\b\b\b\b\b\b\b\b\b\b\b\b\b\b\b\b\b\b\b\b\r6250/6250 [==============================] - 17s 3ms/step - loss: 0.6157 - accuracy: 0.6625\n"
          ]
        },
        {
          "name": "stderr",
          "output_type": "stream",
          "text": [
            "Traceback (most recent call last):\n",
            "  File \"/usr/local/lib/python3.10/dist-packages/keras_tuner/src/engine/base_tuner.py\", line 273, in _try_run_and_update_trial\n",
            "    self._run_and_update_trial(trial, *fit_args, **fit_kwargs)\n",
            "  File \"/usr/local/lib/python3.10/dist-packages/keras_tuner/src/engine/base_tuner.py\", line 264, in _run_and_update_trial\n",
            "    tuner_utils.convert_to_metrics_dict(\n",
            "  File \"/usr/local/lib/python3.10/dist-packages/keras_tuner/src/engine/tuner_utils.py\", line 132, in convert_to_metrics_dict\n",
            "    [convert_to_metrics_dict(elem, objective) for elem in results]\n",
            "  File \"/usr/local/lib/python3.10/dist-packages/keras_tuner/src/engine/tuner_utils.py\", line 132, in <listcomp>\n",
            "    [convert_to_metrics_dict(elem, objective) for elem in results]\n",
            "  File \"/usr/local/lib/python3.10/dist-packages/keras_tuner/src/engine/tuner_utils.py\", line 145, in convert_to_metrics_dict\n",
            "    best_value, _ = _get_best_value_and_best_epoch_from_history(\n",
            "  File \"/usr/local/lib/python3.10/dist-packages/keras_tuner/src/engine/tuner_utils.py\", line 116, in _get_best_value_and_best_epoch_from_history\n",
            "    objective_value = objective.get_value(metrics)\n",
            "  File \"/usr/local/lib/python3.10/dist-packages/keras_tuner/src/engine/objective.py\", line 59, in get_value\n",
            "    return logs[self.name]\n",
            "KeyError: 'val_loss'\n"
          ]
        },
        {
          "ename": "RuntimeError",
          "evalue": "ignored",
          "output_type": "error",
          "traceback": [
            "\u001b[0;31m---------------------------------------------------------------------------\u001b[0m",
            "\u001b[0;31mRuntimeError\u001b[0m                              Traceback (most recent call last)",
            "\u001b[0;32m<ipython-input-73-8ae6ebf70e8f>\u001b[0m in \u001b[0;36m<cell line: 1>\u001b[0;34m()\u001b[0m\n\u001b[0;32m----> 1\u001b[0;31m \u001b[0mtuner\u001b[0m\u001b[0;34m.\u001b[0m\u001b[0msearch\u001b[0m\u001b[0;34m(\u001b[0m\u001b[0mX\u001b[0m\u001b[0;34m,\u001b[0m \u001b[0mY\u001b[0m\u001b[0;34m,\u001b[0m \u001b[0mepochs\u001b[0m\u001b[0;34m=\u001b[0m\u001b[0;36m10\u001b[0m\u001b[0;34m,\u001b[0m \u001b[0mcallbacks\u001b[0m\u001b[0;34m=\u001b[0m\u001b[0;34m[\u001b[0m\u001b[0mstop_early\u001b[0m\u001b[0;34m]\u001b[0m\u001b[0;34m,\u001b[0m \u001b[0mbatch_size\u001b[0m\u001b[0;34m=\u001b[0m\u001b[0;36m64\u001b[0m\u001b[0;34m)\u001b[0m\u001b[0;34m\u001b[0m\u001b[0;34m\u001b[0m\u001b[0m\n\u001b[0m\u001b[1;32m      2\u001b[0m \u001b[0;34m\u001b[0m\u001b[0m\n\u001b[1;32m      3\u001b[0m \u001b[0;31m# Get the optimal hyperparameters\u001b[0m\u001b[0;34m\u001b[0m\u001b[0;34m\u001b[0m\u001b[0m\n\u001b[1;32m      4\u001b[0m \u001b[0mbest_hps\u001b[0m\u001b[0;34m=\u001b[0m\u001b[0mtuner\u001b[0m\u001b[0;34m.\u001b[0m\u001b[0mget_best_hyperparameters\u001b[0m\u001b[0;34m(\u001b[0m\u001b[0mnum_trials\u001b[0m\u001b[0;34m=\u001b[0m\u001b[0;36m3\u001b[0m\u001b[0;34m)\u001b[0m\u001b[0;34m[\u001b[0m\u001b[0;36m0\u001b[0m\u001b[0;34m]\u001b[0m\u001b[0;34m\u001b[0m\u001b[0;34m\u001b[0m\u001b[0m\n\u001b[1;32m      5\u001b[0m \u001b[0;34m\u001b[0m\u001b[0m\n",
            "\u001b[0;32m/usr/local/lib/python3.10/dist-packages/keras_tuner/src/engine/base_tuner.py\u001b[0m in \u001b[0;36msearch\u001b[0;34m(self, *fit_args, **fit_kwargs)\u001b[0m\n\u001b[1;32m    232\u001b[0m             \u001b[0mself\u001b[0m\u001b[0;34m.\u001b[0m\u001b[0mon_trial_begin\u001b[0m\u001b[0;34m(\u001b[0m\u001b[0mtrial\u001b[0m\u001b[0;34m)\u001b[0m\u001b[0;34m\u001b[0m\u001b[0;34m\u001b[0m\u001b[0m\n\u001b[1;32m    233\u001b[0m             \u001b[0mself\u001b[0m\u001b[0;34m.\u001b[0m\u001b[0m_try_run_and_update_trial\u001b[0m\u001b[0;34m(\u001b[0m\u001b[0mtrial\u001b[0m\u001b[0;34m,\u001b[0m \u001b[0;34m*\u001b[0m\u001b[0mfit_args\u001b[0m\u001b[0;34m,\u001b[0m \u001b[0;34m**\u001b[0m\u001b[0mfit_kwargs\u001b[0m\u001b[0;34m)\u001b[0m\u001b[0;34m\u001b[0m\u001b[0;34m\u001b[0m\u001b[0m\n\u001b[0;32m--> 234\u001b[0;31m             \u001b[0mself\u001b[0m\u001b[0;34m.\u001b[0m\u001b[0mon_trial_end\u001b[0m\u001b[0;34m(\u001b[0m\u001b[0mtrial\u001b[0m\u001b[0;34m)\u001b[0m\u001b[0;34m\u001b[0m\u001b[0;34m\u001b[0m\u001b[0m\n\u001b[0m\u001b[1;32m    235\u001b[0m         \u001b[0mself\u001b[0m\u001b[0;34m.\u001b[0m\u001b[0mon_search_end\u001b[0m\u001b[0;34m(\u001b[0m\u001b[0;34m)\u001b[0m\u001b[0;34m\u001b[0m\u001b[0;34m\u001b[0m\u001b[0m\n\u001b[1;32m    236\u001b[0m \u001b[0;34m\u001b[0m\u001b[0m\n",
            "\u001b[0;32m/usr/local/lib/python3.10/dist-packages/keras_tuner/src/engine/base_tuner.py\u001b[0m in \u001b[0;36mon_trial_end\u001b[0;34m(self, trial)\u001b[0m\n\u001b[1;32m    336\u001b[0m             \u001b[0mtrial\u001b[0m\u001b[0;34m:\u001b[0m \u001b[0mA\u001b[0m\u001b[0;31m \u001b[0m\u001b[0;31m`\u001b[0m\u001b[0mTrial\u001b[0m\u001b[0;31m`\u001b[0m \u001b[0minstance\u001b[0m\u001b[0;34m.\u001b[0m\u001b[0;34m\u001b[0m\u001b[0;34m\u001b[0m\u001b[0m\n\u001b[1;32m    337\u001b[0m         \"\"\"\n\u001b[0;32m--> 338\u001b[0;31m         \u001b[0mself\u001b[0m\u001b[0;34m.\u001b[0m\u001b[0moracle\u001b[0m\u001b[0;34m.\u001b[0m\u001b[0mend_trial\u001b[0m\u001b[0;34m(\u001b[0m\u001b[0mtrial\u001b[0m\u001b[0;34m)\u001b[0m\u001b[0;34m\u001b[0m\u001b[0;34m\u001b[0m\u001b[0m\n\u001b[0m\u001b[1;32m    339\u001b[0m         \u001b[0mself\u001b[0m\u001b[0;34m.\u001b[0m\u001b[0msave\u001b[0m\u001b[0;34m(\u001b[0m\u001b[0;34m)\u001b[0m\u001b[0;34m\u001b[0m\u001b[0;34m\u001b[0m\u001b[0m\n\u001b[1;32m    340\u001b[0m \u001b[0;34m\u001b[0m\u001b[0m\n",
            "\u001b[0;32m/usr/local/lib/python3.10/dist-packages/keras_tuner/src/engine/oracle.py\u001b[0m in \u001b[0;36mwrapped_func\u001b[0;34m(*args, **kwargs)\u001b[0m\n\u001b[1;32m    106\u001b[0m             \u001b[0mLOCKS\u001b[0m\u001b[0;34m[\u001b[0m\u001b[0moracle\u001b[0m\u001b[0;34m]\u001b[0m\u001b[0;34m.\u001b[0m\u001b[0macquire\u001b[0m\u001b[0;34m(\u001b[0m\u001b[0;34m)\u001b[0m\u001b[0;34m\u001b[0m\u001b[0;34m\u001b[0m\u001b[0m\n\u001b[1;32m    107\u001b[0m             \u001b[0mTHREADS\u001b[0m\u001b[0;34m[\u001b[0m\u001b[0moracle\u001b[0m\u001b[0;34m]\u001b[0m \u001b[0;34m=\u001b[0m \u001b[0mthread_name\u001b[0m\u001b[0;34m\u001b[0m\u001b[0;34m\u001b[0m\u001b[0m\n\u001b[0;32m--> 108\u001b[0;31m         \u001b[0mret_val\u001b[0m \u001b[0;34m=\u001b[0m \u001b[0mfunc\u001b[0m\u001b[0;34m(\u001b[0m\u001b[0;34m*\u001b[0m\u001b[0margs\u001b[0m\u001b[0;34m,\u001b[0m \u001b[0;34m**\u001b[0m\u001b[0mkwargs\u001b[0m\u001b[0;34m)\u001b[0m\u001b[0;34m\u001b[0m\u001b[0;34m\u001b[0m\u001b[0m\n\u001b[0m\u001b[1;32m    109\u001b[0m         \u001b[0;32mif\u001b[0m \u001b[0mneed_acquire\u001b[0m\u001b[0;34m:\u001b[0m\u001b[0;34m\u001b[0m\u001b[0;34m\u001b[0m\u001b[0m\n\u001b[1;32m    110\u001b[0m             \u001b[0mTHREADS\u001b[0m\u001b[0;34m[\u001b[0m\u001b[0moracle\u001b[0m\u001b[0;34m]\u001b[0m \u001b[0;34m=\u001b[0m \u001b[0;32mNone\u001b[0m\u001b[0;34m\u001b[0m\u001b[0;34m\u001b[0m\u001b[0m\n",
            "\u001b[0;32m/usr/local/lib/python3.10/dist-packages/keras_tuner/src/engine/oracle.py\u001b[0m in \u001b[0;36mend_trial\u001b[0;34m(self, trial)\u001b[0m\n\u001b[1;32m    584\u001b[0m         \u001b[0;32mif\u001b[0m \u001b[0;32mnot\u001b[0m \u001b[0mself\u001b[0m\u001b[0;34m.\u001b[0m\u001b[0m_retry\u001b[0m\u001b[0;34m(\u001b[0m\u001b[0mtrial\u001b[0m\u001b[0;34m)\u001b[0m\u001b[0;34m:\u001b[0m\u001b[0;34m\u001b[0m\u001b[0;34m\u001b[0m\u001b[0m\n\u001b[1;32m    585\u001b[0m             \u001b[0mself\u001b[0m\u001b[0;34m.\u001b[0m\u001b[0mend_order\u001b[0m\u001b[0;34m.\u001b[0m\u001b[0mappend\u001b[0m\u001b[0;34m(\u001b[0m\u001b[0mtrial\u001b[0m\u001b[0;34m.\u001b[0m\u001b[0mtrial_id\u001b[0m\u001b[0;34m)\u001b[0m\u001b[0;34m\u001b[0m\u001b[0;34m\u001b[0m\u001b[0m\n\u001b[0;32m--> 586\u001b[0;31m             \u001b[0mself\u001b[0m\u001b[0;34m.\u001b[0m\u001b[0m_check_consecutive_failures\u001b[0m\u001b[0;34m(\u001b[0m\u001b[0;34m)\u001b[0m\u001b[0;34m\u001b[0m\u001b[0;34m\u001b[0m\u001b[0m\n\u001b[0m\u001b[1;32m    587\u001b[0m \u001b[0;34m\u001b[0m\u001b[0m\n\u001b[1;32m    588\u001b[0m         \u001b[0mself\u001b[0m\u001b[0;34m.\u001b[0m\u001b[0m_save_trial\u001b[0m\u001b[0;34m(\u001b[0m\u001b[0mtrial\u001b[0m\u001b[0;34m)\u001b[0m\u001b[0;34m\u001b[0m\u001b[0;34m\u001b[0m\u001b[0m\n",
            "\u001b[0;32m/usr/local/lib/python3.10/dist-packages/keras_tuner/src/engine/oracle.py\u001b[0m in \u001b[0;36m_check_consecutive_failures\u001b[0;34m(self)\u001b[0m\n\u001b[1;32m    541\u001b[0m                 \u001b[0mconsecutive_failures\u001b[0m \u001b[0;34m=\u001b[0m \u001b[0;36m0\u001b[0m\u001b[0;34m\u001b[0m\u001b[0;34m\u001b[0m\u001b[0m\n\u001b[1;32m    542\u001b[0m             \u001b[0;32mif\u001b[0m \u001b[0mconsecutive_failures\u001b[0m \u001b[0;34m==\u001b[0m \u001b[0mself\u001b[0m\u001b[0;34m.\u001b[0m\u001b[0mmax_consecutive_failed_trials\u001b[0m\u001b[0;34m:\u001b[0m\u001b[0;34m\u001b[0m\u001b[0;34m\u001b[0m\u001b[0m\n\u001b[0;32m--> 543\u001b[0;31m                 raise RuntimeError(\n\u001b[0m\u001b[1;32m    544\u001b[0m                     \u001b[0;34m\"Number of consecutive failures exceeded the limit \"\u001b[0m\u001b[0;34m\u001b[0m\u001b[0;34m\u001b[0m\u001b[0m\n\u001b[1;32m    545\u001b[0m                     \u001b[0;34mf\"of {self.max_consecutive_failed_trials}.\\n\"\u001b[0m\u001b[0;34m\u001b[0m\u001b[0;34m\u001b[0m\u001b[0m\n",
            "\u001b[0;31mRuntimeError\u001b[0m: Number of consecutive failures exceeded the limit of 3.\nTraceback (most recent call last):\n  File \"/usr/local/lib/python3.10/dist-packages/keras_tuner/src/engine/base_tuner.py\", line 273, in _try_run_and_update_trial\n    self._run_and_update_trial(trial, *fit_args, **fit_kwargs)\n  File \"/usr/local/lib/python3.10/dist-packages/keras_tuner/src/engine/base_tuner.py\", line 264, in _run_and_update_trial\n    tuner_utils.convert_to_metrics_dict(\n  File \"/usr/local/lib/python3.10/dist-packages/keras_tuner/src/engine/tuner_utils.py\", line 132, in convert_to_metrics_dict\n    [convert_to_metrics_dict(elem, objective) for elem in results]\n  File \"/usr/local/lib/python3.10/dist-packages/keras_tuner/src/engine/tuner_utils.py\", line 132, in <listcomp>\n    [convert_to_metrics_dict(elem, objective) for elem in results]\n  File \"/usr/local/lib/python3.10/dist-packages/keras_tuner/src/engine/tuner_utils.py\", line 145, in convert_to_metrics_dict\n    best_value, _ = _get_best_value_and_best_epoch_from_history(\n  File \"/usr/local/lib/python3.10/dist-packages/keras_tuner/src/engine/tuner_utils.py\", line 116, in _get_best_value_and_best_epoch_from_history\n    objective_value = objective.get_value(metrics)\n  File \"/usr/local/lib/python3.10/dist-packages/keras_tuner/src/engine/objective.py\", line 59, in get_value\n    return logs[self.name]\nKeyError: 'val_loss'\n"
          ]
        }
      ],
      "source": [
        "tuner.search(X, Y, epochs=10, callbacks=[stop_early], batch_size=64)\n",
        "\n",
        "# Get the optimal hyperparameters\n",
        "best_hps=tuner.get_best_hyperparameters(num_trials=3)[0]\n",
        "\n",
        "print(f\"\"\"\n",
        "The hyperparameter search is complete. The optimal number of units in the first densely-connected\n",
        "layer is {best_hps.get('units')} and the optimal learning rate for the optimizer\n",
        "is {best_hps.get('learning_rate')}.\n",
        "\"\"\")"
      ]
    },
    {
      "cell_type": "code",
      "execution_count": null,
      "metadata": {
        "colab": {
          "base_uri": "https://localhost:8080/"
        },
        "id": "hTqAbj0YA3jQ",
        "outputId": "d34d7643-1e45-430b-9964-2dc006a540f9"
      },
      "outputs": [
        {
          "name": "stdout",
          "output_type": "stream",
          "text": [
            "Model: \"sequential_1\"\n",
            "_________________________________________________________________\n",
            " Layer (type)                Output Shape              Param #   \n",
            "=================================================================\n",
            " dense_3 (Dense)             (None, 96)                2976      \n",
            "                                                                 \n",
            " dense_4 (Dense)             (None, 96)                9312      \n",
            "                                                                 \n",
            " dense_5 (Dense)             (None, 1)                 97        \n",
            "                                                                 \n",
            "=================================================================\n",
            "Total params: 12385 (48.38 KB)\n",
            "Trainable params: 12385 (48.38 KB)\n",
            "Non-trainable params: 0 (0.00 Byte)\n",
            "_________________________________________________________________\n",
            "Epoch 1/10\n",
            "6250/6250 [==============================] - 17s 3ms/step - loss: 0.6697 - accuracy: 0.5836\n",
            "Epoch 2/10\n",
            "6250/6250 [==============================] - 16s 3ms/step - loss: 0.6423 - accuracy: 0.6265\n",
            "Epoch 3/10\n",
            "6250/6250 [==============================] - 17s 3ms/step - loss: 0.6357 - accuracy: 0.6372\n",
            "Epoch 4/10\n",
            "6250/6250 [==============================] - 17s 3ms/step - loss: 0.6318 - accuracy: 0.6432\n",
            "Epoch 5/10\n",
            "6250/6250 [==============================] - 17s 3ms/step - loss: 0.6283 - accuracy: 0.6474\n",
            "Epoch 6/10\n",
            "6250/6250 [==============================] - 16s 3ms/step - loss: 0.6248 - accuracy: 0.6521\n",
            "Epoch 7/10\n",
            "6250/6250 [==============================] - 16s 3ms/step - loss: 0.6217 - accuracy: 0.6559\n",
            "Epoch 8/10\n",
            "6250/6250 [==============================] - 18s 3ms/step - loss: 0.6186 - accuracy: 0.6593\n",
            "Epoch 9/10\n",
            "6250/6250 [==============================] - 18s 3ms/step - loss: 0.6157 - accuracy: 0.6626\n",
            "Epoch 10/10\n",
            "6250/6250 [==============================] - 16s 3ms/step - loss: 0.6126 - accuracy: 0.6654\n"
          ]
        }
      ],
      "source": [
        "import tensorflow as tf\n",
        "from tensorflow import keras\n",
        "from tensorflow.keras import layers\n",
        "from tensorflow.keras.models import Sequential\n",
        "from tensorflow.keras.layers import Dense, Dropout, Activation\n",
        "\n",
        "\n",
        "\n",
        "\n",
        "best_hps = {'units': 96, 'learning_rate': 0.0001}\n",
        "\n",
        "# Building the model with the best hyperparameters\n",
        "model = keras.Sequential()\n",
        "model.add(keras.layers.Dense(units=best_hps['units'], input_shape=(X.shape[-1],), activation='relu'))\n",
        "model.add(keras.layers.Dense(units=best_hps['units'], activation='relu'))\n",
        "model.add(keras.layers.Dense(1, activation='sigmoid'))\n",
        "\n",
        "# Compiling the model with the best learning rate\n",
        "model.compile(optimizer=keras.optimizers.Adam(learning_rate=best_hps['learning_rate']),\n",
        "              loss='binary_crossentropy',\n",
        "              metrics=['accuracy'])\n",
        "\n",
        "#summary\n",
        "model.summary()\n",
        "model.save('Higgs Boson.h5')\n",
        "# Training the model\n",
        "epochs = 10\n",
        "batch_size = 64\n",
        "history = model.fit(X, Y, epochs=epochs, batch_size=batch_size)"
      ]
    },
    {
      "cell_type": "code",
      "execution_count": null,
      "metadata": {
        "colab": {
          "background_save": true,
          "base_uri": "https://localhost:8080/"
        },
        "id": "xLj_BSv6A6Qa",
        "outputId": "4d836f8c-68a5-488b-d711-f6d7f95587a0"
      },
      "outputs": [
        {
          "name": "stdout",
          "output_type": "stream",
          "text": [
            "3125/3125 [==============================] - 6s 2ms/step\n"
          ]
        }
      ],
      "source": [
        "predictions = model.predict(x_test)\n",
        "threshold = 0.5\n",
        "binary_predictions = (predictions > threshold).astype(int)\n",
        "\n",
        "# DataFrame with predictions_df\n",
        "predictions_df = pd.DataFrame()\n",
        "#predictions_df['Actual'] = y_test.iloc[:, 0]\n",
        "predictions_df = binary_predictions[:, 0]"
      ]
    },
    {
      "cell_type": "code",
      "execution_count": null,
      "metadata": {
        "colab": {
          "base_uri": "https://localhost:8080/"
        },
        "id": "RKLr6oogIszg",
        "outputId": "e315378f-0441-4127-b1dd-a14d30937ecf"
      },
      "outputs": [
        {
          "name": "stdout",
          "output_type": "stream",
          "text": [
            "           ID  Target\n",
            "0           1       1\n",
            "1           2       0\n",
            "2           3       1\n",
            "3           4       1\n",
            "4           5       0\n",
            "...       ...     ...\n",
            "99995   99996       0\n",
            "99996   99997       0\n",
            "99997   99998       1\n",
            "99998   99999       1\n",
            "99999  100000       1\n",
            "\n",
            "[100000 rows x 2 columns]\n"
          ]
        }
      ],
      "source": [
        "submission_df = pd.DataFrame()\n",
        "submission_df['ID'] = range(1, len(predictions_df) + 1)  # Serial numbers starting from 1\n",
        "submission_df['Target'] = predictions_df.astype(int)  # Answer' is of integer type\n",
        "\n",
        "# Save the submission DataFrame to a CSV file\n",
        "submission_df.to_csv('submission10.csv', index=False)\n",
        "\n",
        "# Print the submission DataFrame\n",
        "print(submission_df)"
      ]
    },
    {
      "cell_type": "code",
      "execution_count": null,
      "metadata": {
        "id": "hiiomEKHIxPG"
      },
      "outputs": [],
      "source": [
        "df_temp = pd.read_csv('submission10.csv')\n",
        "test_temp = pd.read_csv('test.csv')\n",
        "assert len(df_temp.columns) == 2, \"Number of columns in the submission file is not correct, check the submission format\"\n",
        "assert list(df_temp.columns) == ['ID', 'Target'] , \"Column names are not correct, check the submission format\"\n",
        "assert df_temp['Target'].nunique() == 1 or df_temp['Target'].nunique() == 2, \"The prediction should be 0 or 1 only\"\n",
        "assert len(df_temp) == len(test_temp), \"Number of rows in the submission file is not correct\""
      ]
    }
  ],
  "metadata": {
    "colab": {
      "provenance": []
    },
    "kernelspec": {
      "display_name": "Python 3",
      "name": "python3"
    },
    "language_info": {
      "name": "python"
    }
  },
  "nbformat": 4,
  "nbformat_minor": 0
}